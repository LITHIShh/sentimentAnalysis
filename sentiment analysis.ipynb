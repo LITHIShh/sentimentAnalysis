{
 "cells": [
  {
   "cell_type": "code",
   "execution_count": 19,
   "id": "946e15dc",
   "metadata": {},
   "outputs": [],
   "source": [
    "import pandas as pd\n",
    "from textblob import TextBlob\n",
    "\n",
    "# Load the Excel file into a Pandas dataframe\n",
    "df = pd.read_excel('r43.xlsx')\n",
    "\n",
    "# Extract the headlines column\n",
    "headlines = df['Headlines']\n",
    "\n",
    "# Create lists to store the sentiment scores and analysis\n",
    "scores = []\n",
    "analysis = []\n",
    "\n",
    "# Loop through the headlines and perform sentiment analysis\n",
    "for headline in headlines:\n",
    "    # Get the sentiment score for the headline\n",
    "    blob = TextBlob(headline)\n",
    "    score = blob.sentiment.polarity\n",
    "    scores.append(score)\n",
    "\n",
    "    # Classify the sentiment analysis as positive, negative or neutral\n",
    "    if score > 0.05:\n",
    "        analysis.append('positive')\n",
    "    elif score < -0.05:\n",
    "        analysis.append('negative')\n",
    "    else:\n",
    "        analysis.append('neutral')\n",
    "\n",
    "# Add the sentiment score and analysis columns to the dataframe\n",
    "df['Sentiment Score'] = scores\n",
    "df['Sentiment Analysis'] = analysis\n",
    "\n",
    "# Save the updated dataframe to a new Excel file\n",
    "df.to_excel('final43.xlsx', index=False)\n"
   ]
  },
  {
   "cell_type": "code",
   "execution_count": null,
   "id": "6b0e2abe",
   "metadata": {},
   "outputs": [],
   "source": []
  },
  {
   "cell_type": "code",
   "execution_count": null,
   "id": "a3a5ae26",
   "metadata": {},
   "outputs": [],
   "source": [
    "\n"
   ]
  },
  {
   "cell_type": "code",
   "execution_count": null,
   "id": "b097c58b",
   "metadata": {},
   "outputs": [],
   "source": [
    "\n",
    "\n"
   ]
  },
  {
   "cell_type": "code",
   "execution_count": null,
   "id": "37de04e4",
   "metadata": {},
   "outputs": [],
   "source": []
  },
  {
   "cell_type": "code",
   "execution_count": null,
   "id": "43ac9e30",
   "metadata": {},
   "outputs": [],
   "source": []
  },
  {
   "cell_type": "code",
   "execution_count": null,
   "id": "16d576fb",
   "metadata": {},
   "outputs": [],
   "source": []
  }
 ],
 "metadata": {
  "kernelspec": {
   "display_name": "Python 3 (ipykernel)",
   "language": "python",
   "name": "python3"
  },
  "language_info": {
   "codemirror_mode": {
    "name": "ipython",
    "version": 3
   },
   "file_extension": ".py",
   "mimetype": "text/x-python",
   "name": "python",
   "nbconvert_exporter": "python",
   "pygments_lexer": "ipython3",
   "version": "3.9.13"
  }
 },
 "nbformat": 4,
 "nbformat_minor": 5
}
